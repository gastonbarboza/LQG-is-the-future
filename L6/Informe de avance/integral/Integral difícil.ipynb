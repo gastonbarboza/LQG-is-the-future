{
 "cells": [
  {
   "cell_type": "code",
   "execution_count": 11,
   "metadata": {
    "collapsed": true
   },
   "outputs": [],
   "source": [
    "from sympy import *\n",
    "init_printing()"
   ]
  },
  {
   "cell_type": "code",
   "execution_count": 12,
   "metadata": {
    "collapsed": true
   },
   "outputs": [],
   "source": [
    "#Ángulo sólido de la placa\n",
    "def omega(largo, ancho, altura):\n",
    "    #Parámetros cónicos\n",
    "    a = largo/(2*altura)\n",
    "    b = ancho/(2*altura)\n",
    "    #Parámetros intermedios\n",
    "    numerador = 1 + a**2 + b**2\n",
    "    denominador = (1+a**2)*(1+b**2)\n",
    "    cociente = numerador/denominador\n",
    "    #Resultado final\n",
    "    omega = 4*acos(sqrt(cociente))\n",
    "    return omega"
   ]
  },
  {
   "cell_type": "code",
   "execution_count": 13,
   "metadata": {
    "collapsed": false
   },
   "outputs": [
    {
     "data": {
      "image/png": "[encoded data removed]",
      "text/latex": [
       "$$\\int_{0}^{\\phi_{\\gamma}} \\frac{\\cos^{4}{\\left (\\varphi \\right )}}{\\left(\\gamma^{2} + \\cos^{2}{\\left (\\varphi \\right )}\\right)^{2}}\\, d\\varphi$$"
      ],
      "text/plain": [
       "\\phi_{\\gamma}                               \n",
       "      ⌠                                     \n",
       "      ⎮              4                      \n",
       "      ⎮           cos (varphi)              \n",
       "      ⎮       ──────────────────── d(varphi)\n",
       "      ⎮                          2          \n",
       "      ⎮       ⎛ 2      2        ⎞           \n",
       "      ⎮       ⎝γ  + cos (varphi)⎠           \n",
       "      ⌡                                     \n",
       "      0                                     "
      ]
     },
     "execution_count": 13,
     "metadata": {},
     "output_type": "execute_result"
    }
   ],
   "source": [
    "#Para el flujo la integral que hay que hacer es esta (cuentas en cuaderno física 4 verano)\n",
    "phi = symbols('varphi') #el ángulo azimutal\n",
    "gamma = symbols('gamma') #el parámetro cónico correspondiente\n",
    "integrando = (cos(phi)/sqrt(cos(phi)**2+gamma**2))**4\n",
    "Integral(integrando,(phi,0,symbols('\\phi_{\\gamma}'))) #el límite depende de cuál parámetro cónico es"
   ]
  },
  {
   "cell_type": "code",
   "execution_count": 14,
   "metadata": {
    "collapsed": false
   },
   "outputs": [
    {
     "data": {
      "image/png": "[encoded data removed]",
      "text/latex": [
       "$$0.197395559849881$$"
      ],
      "text/plain": [
       "0.197395559849881"
      ]
     },
     "execution_count": 14,
     "metadata": {},
     "output_type": "execute_result"
    }
   ],
   "source": [
    "#Flujo de muones\n",
    "intensidad = 0.007 #(muones por cm2 por s por str)\n",
    "#Dimensiones de la placa\n",
    "a = 2*20\n",
    "b = 2*4\n",
    "d = 2\n",
    "area = a/2*b/2\n",
    "#Límites de integración\n",
    "alphalim = atan(b/a)\n",
    "betalim = atan(a/b)\n",
    "#Parámetros cónicos\n",
    "alpha = a/2/d\n",
    "beta = b/2/d\n",
    "\n",
    "alphalim"
   ]
  },
  {
   "cell_type": "code",
   "execution_count": 15,
   "metadata": {
    "collapsed": false
   },
   "outputs": [
    {
     "data": {
      "image/png": "[encoded data removed]",
      "text/latex": [
       "$$\\frac{\\cos^{4}{\\left (\\varphi \\right )}}{\\left(\\cos^{2}{\\left (\\varphi \\right )} + 100.0\\right)^{2}}$$"
      ],
      "text/plain": [
       "         4             \n",
       "      cos (varphi)     \n",
       "───────────────────────\n",
       "                      2\n",
       "⎛   2                ⎞ \n",
       "⎝cos (varphi) + 100.0⎠ "
      ]
     },
     "execution_count": 15,
     "metadata": {},
     "output_type": "execute_result"
    }
   ],
   "source": [
    "#Funciones a integrar\n",
    "alphafunc = integrando.subs(gamma,alpha)\n",
    "betafunc = integrando.subs(gamma,beta)\n",
    "#Luego hay que hacer pi/2 - int(alphafunc) - int(betafunc)\n",
    "alphafunc"
   ]
  },
  {
   "cell_type": "code",
   "execution_count": 16,
   "metadata": {
    "collapsed": false
   },
   "outputs": [
    {
     "data": {
      "image/png": "[encoded data removed]",
      "text/latex": [
       "$$0.02606679629744619$$"
      ],
      "text/plain": [
       "0.02606679629744619"
      ]
     },
     "execution_count": 16,
     "metadata": {},
     "output_type": "execute_result"
    }
   ],
   "source": [
    "#Hacemos numérico el integrando\n",
    "integrandoAlpha = lambdify(phi,alphafunc)\n",
    "integrandoBeta = lambdify(phi,betafunc)\n",
    "integrandoBeta(.5)"
   ]
  },
  {
   "cell_type": "code",
   "execution_count": 17,
   "metadata": {
    "collapsed": false
   },
   "outputs": [
    {
     "data": {
      "image/png": "[encoded data removed]",
      "text/latex": [
       "$$1.54544400585382$$"
      ],
      "text/plain": [
       "1.54544400585382"
      ]
     },
     "execution_count": 17,
     "metadata": {},
     "output_type": "execute_result"
    }
   ],
   "source": [
    "from scipy.integrate import quad\n",
    "#Integramos numéricamente\n",
    "integralAlpha = quad(integrandoAlpha,0,alphalim)[0]\n",
    "integralBeta = quad(integrandoBeta,0,betalim)[0]\n",
    "flujoporunidad = (pi/2 - integralAlpha - integralBeta).evalf()\n",
    "flujoporunidad"
   ]
  },
  {
   "cell_type": "code",
   "execution_count": 18,
   "metadata": {
    "collapsed": false
   },
   "outputs": [
    {
     "data": {
      "image/png": "[encoded data removed]",
      "text/latex": [
       "$$51.9269185966883$$"
      ],
      "text/plain": [
       "51.9269185966883"
      ]
     },
     "execution_count": 18,
     "metadata": {},
     "output_type": "execute_result"
    }
   ],
   "source": [
    "#El flujo real en minutos es\n",
    "flujoporunidad*area*intensidad*60"
   ]
  },
  {
   "cell_type": "code",
   "execution_count": 19,
   "metadata": {
    "collapsed": false
   },
   "outputs": [
    {
     "data": {
      "image/png": "[encoded data removed]",
      "text/latex": [
       "$$0.35 \\cdot 4\\pi$$"
      ],
      "text/plain": [
       "0.35⋅4\\pi"
      ]
     },
     "execution_count": 19,
     "metadata": {},
     "output_type": "execute_result"
    }
   ],
   "source": [
    "#Como referencia, el ángulo sólido contenido es\n",
    "anguloesfera = symbols('4\\pi')\n",
    "(omega(a,b,d)/4/pi).evalf(2)*anguloesfera"
   ]
  },
  {
   "cell_type": "code",
   "execution_count": 20,
   "metadata": {
    "collapsed": false
   },
   "outputs": [
    {
     "data": {
      "image/png": "[encoded data removed]",
      "text/latex": [
       "$$147.479747744927$$"
      ],
      "text/plain": [
       "147.479747744927"
      ]
     },
     "execution_count": 20,
     "metadata": {},
     "output_type": "execute_result"
    }
   ],
   "source": [
    "#Si hacemos angulo solido * intensidad * area\n",
    "omega(a,b,d)*area*intensidad*60"
   ]
  }
 ],
 "metadata": {
  "kernelspec": {
   "display_name": "Python 3",
   "language": "python",
   "name": "python3"
  },
  "language_info": {
   "codemirror_mode": {
    "name": "ipython",
    "version": 3
   },
   "file_extension": ".py",
   "mimetype": "text/x-python",
   "name": "python",
   "nbconvert_exporter": "python",
   "pygments_lexer": "ipython3",
   "version": "3.6.0"
  }
 },
 "nbformat": 4,
 "nbformat_minor": 2
}
